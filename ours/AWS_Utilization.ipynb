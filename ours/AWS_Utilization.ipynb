{
  "nbformat": 4,
  "nbformat_minor": 0,
  "metadata": {
    "colab": {
      "provenance": []
    },
    "kernelspec": {
      "name": "python3",
      "display_name": "Python 3"
    },
    "language_info": {
      "name": "python"
    }
  },
  "cells": [
    {
      "cell_type": "markdown",
      "source": [
        "###Data Loading"
      ],
      "metadata": {
        "id": "IKcqoOTsP53Y"
      }
    },
    {
      "cell_type": "markdown",
      "source": [
        "Add the ec2_cpu_utilization csv file to the workspace before running the code."
      ],
      "metadata": {
        "id": "zuEe4JqsQ2rE"
      }
    },
    {
      "cell_type": "code",
      "execution_count": null,
      "metadata": {
        "colab": {
          "base_uri": "https://localhost:8080/"
        },
        "id": "zcMtziBJx33E",
        "outputId": "c3886cb9-bf7d-411a-bfb3-85db3b3441b7"
      },
      "outputs": [
        {
          "output_type": "stream",
          "name": "stdout",
          "text": [
            "Looking in indexes: https://download.pytorch.org/whl/cu118\n",
            "Requirement already satisfied: torch in /usr/local/lib/python3.10/dist-packages (2.5.0+cu121)\n",
            "Collecting torch\n",
            "  Downloading https://download.pytorch.org/whl/cu118/torch-2.5.1%2Bcu118-cp310-cp310-linux_x86_64.whl (838.3 MB)\n",
            "\u001b[2K     \u001b[90m━━━━━━━━━━━━━━━━━━━━━━━━━━━━━━━━━━━━━━━━\u001b[0m \u001b[32m838.3/838.3 MB\u001b[0m \u001b[31m1.8 MB/s\u001b[0m eta \u001b[36m0:00:00\u001b[0m\n",
            "\u001b[?25hRequirement already satisfied: torchvision in /usr/local/lib/python3.10/dist-packages (0.20.0+cu121)\n",
            "Collecting torchvision\n",
            "  Downloading https://download.pytorch.org/whl/cu118/torchvision-0.20.1%2Bcu118-cp310-cp310-linux_x86_64.whl (6.5 MB)\n",
            "\u001b[2K     \u001b[90m━━━━━━━━━━━━━━━━━━━━━━━━━━━━━━━━━━━━━━━━\u001b[0m \u001b[32m6.5/6.5 MB\u001b[0m \u001b[31m79.0 MB/s\u001b[0m eta \u001b[36m0:00:00\u001b[0m\n",
            "\u001b[?25hRequirement already satisfied: torchaudio in /usr/local/lib/python3.10/dist-packages (2.5.0+cu121)\n",
            "Collecting torchaudio\n",
            "  Downloading https://download.pytorch.org/whl/cu118/torchaudio-2.5.1%2Bcu118-cp310-cp310-linux_x86_64.whl (3.3 MB)\n",
            "\u001b[2K     \u001b[90m━━━━━━━━━━━━━━━━━━━━━━━━━━━━━━━━━━━━━━━━\u001b[0m \u001b[32m3.3/3.3 MB\u001b[0m \u001b[31m52.6 MB/s\u001b[0m eta \u001b[36m0:00:00\u001b[0m\n",
            "\u001b[?25hRequirement already satisfied: filelock in /usr/local/lib/python3.10/dist-packages (from torch) (3.16.1)\n",
            "Requirement already satisfied: typing-extensions>=4.8.0 in /usr/local/lib/python3.10/dist-packages (from torch) (4.12.2)\n",
            "Requirement already satisfied: networkx in /usr/local/lib/python3.10/dist-packages (from torch) (3.4.2)\n",
            "Requirement already satisfied: jinja2 in /usr/local/lib/python3.10/dist-packages (from torch) (3.1.4)\n",
            "Requirement already satisfied: fsspec in /usr/local/lib/python3.10/dist-packages (from torch) (2024.10.0)\n",
            "Collecting nvidia-cuda-nvrtc-cu11==11.8.89 (from torch)\n",
            "  Downloading https://download.pytorch.org/whl/cu118/nvidia_cuda_nvrtc_cu11-11.8.89-py3-none-manylinux1_x86_64.whl (23.2 MB)\n",
            "\u001b[2K     \u001b[90m━━━━━━━━━━━━━━━━━━━━━━━━━━━━━━━━━━━━━━━━\u001b[0m \u001b[32m23.2/23.2 MB\u001b[0m \u001b[31m65.8 MB/s\u001b[0m eta \u001b[36m0:00:00\u001b[0m\n",
            "\u001b[?25hCollecting nvidia-cuda-runtime-cu11==11.8.89 (from torch)\n",
            "  Downloading https://download.pytorch.org/whl/cu118/nvidia_cuda_runtime_cu11-11.8.89-py3-none-manylinux1_x86_64.whl (875 kB)\n",
            "\u001b[2K     \u001b[90m━━━━━━━━━━━━━━━━━━━━━━━━━━━━━━━━━━━━━━━━\u001b[0m \u001b[32m875.6/875.6 kB\u001b[0m \u001b[31m35.6 MB/s\u001b[0m eta \u001b[36m0:00:00\u001b[0m\n",
            "\u001b[?25hCollecting nvidia-cuda-cupti-cu11==11.8.87 (from torch)\n",
            "  Downloading https://download.pytorch.org/whl/cu118/nvidia_cuda_cupti_cu11-11.8.87-py3-none-manylinux1_x86_64.whl (13.1 MB)\n",
            "\u001b[2K     \u001b[90m━━━━━━━━━━━━━━━━━━━━━━━━━━━━━━━━━━━━━━━━\u001b[0m \u001b[32m13.1/13.1 MB\u001b[0m \u001b[31m85.0 MB/s\u001b[0m eta \u001b[36m0:00:00\u001b[0m\n",
            "\u001b[?25hCollecting nvidia-cudnn-cu11==9.1.0.70 (from torch)\n",
            "  Downloading https://download.pytorch.org/whl/cu118/nvidia_cudnn_cu11-9.1.0.70-py3-none-manylinux2014_x86_64.whl (663.9 MB)\n",
            "\u001b[2K     \u001b[90m━━━━━━━━━━━━━━━━━━━━━━━━━━━━━━━━━━━━━━━━\u001b[0m \u001b[32m663.9/663.9 MB\u001b[0m \u001b[31m2.7 MB/s\u001b[0m eta \u001b[36m0:00:00\u001b[0m\n",
            "\u001b[?25hCollecting nvidia-cublas-cu11==11.11.3.6 (from torch)\n",
            "  Downloading https://download.pytorch.org/whl/cu118/nvidia_cublas_cu11-11.11.3.6-py3-none-manylinux1_x86_64.whl (417.9 MB)\n",
            "\u001b[2K     \u001b[90m━━━━━━━━━━━━━━━━━━━━━━━━━━━━━━━━━━━━━━━━\u001b[0m \u001b[32m417.9/417.9 MB\u001b[0m \u001b[31m3.6 MB/s\u001b[0m eta \u001b[36m0:00:00\u001b[0m\n",
            "\u001b[?25hCollecting nvidia-cufft-cu11==10.9.0.58 (from torch)\n",
            "  Downloading https://download.pytorch.org/whl/cu118/nvidia_cufft_cu11-10.9.0.58-py3-none-manylinux1_x86_64.whl (168.4 MB)\n",
            "\u001b[2K     \u001b[90m━━━━━━━━━━━━━━━━━━━━━━━━━━━━━━━━━━━━━━━━\u001b[0m \u001b[32m168.4/168.4 MB\u001b[0m \u001b[31m6.7 MB/s\u001b[0m eta \u001b[36m0:00:00\u001b[0m\n",
            "\u001b[?25hCollecting nvidia-curand-cu11==10.3.0.86 (from torch)\n",
            "  Downloading https://download.pytorch.org/whl/cu118/nvidia_curand_cu11-10.3.0.86-py3-none-manylinux1_x86_64.whl (58.1 MB)\n",
            "\u001b[2K     \u001b[90m━━━━━━━━━━━━━━━━━━━━━━━━━━━━━━━━━━━━━━━━\u001b[0m \u001b[32m58.1/58.1 MB\u001b[0m \u001b[31m12.6 MB/s\u001b[0m eta \u001b[36m0:00:00\u001b[0m\n",
            "\u001b[?25hCollecting nvidia-cusolver-cu11==11.4.1.48 (from torch)\n",
            "  Downloading https://download.pytorch.org/whl/cu118/nvidia_cusolver_cu11-11.4.1.48-py3-none-manylinux1_x86_64.whl (128.2 MB)\n",
            "\u001b[2K     \u001b[90m━━━━━━━━━━━━━━━━━━━━━━━━━━━━━━━━━━━━━━━━\u001b[0m \u001b[32m128.2/128.2 MB\u001b[0m \u001b[31m6.4 MB/s\u001b[0m eta \u001b[36m0:00:00\u001b[0m\n",
            "\u001b[?25hCollecting nvidia-cusparse-cu11==11.7.5.86 (from torch)\n",
            "  Downloading https://download.pytorch.org/whl/cu118/nvidia_cusparse_cu11-11.7.5.86-py3-none-manylinux1_x86_64.whl (204.1 MB)\n",
            "\u001b[2K     \u001b[90m━━━━━━━━━━━━━━━━━━━━━━━━━━━━━━━━━━━━━━━━\u001b[0m \u001b[32m204.1/204.1 MB\u001b[0m \u001b[31m5.6 MB/s\u001b[0m eta \u001b[36m0:00:00\u001b[0m\n",
            "\u001b[?25hCollecting nvidia-nccl-cu11==2.21.5 (from torch)\n",
            "  Downloading https://download.pytorch.org/whl/cu118/nvidia_nccl_cu11-2.21.5-py3-none-manylinux2014_x86_64.whl (147.8 MB)\n",
            "\u001b[2K     \u001b[90m━━━━━━━━━━━━━━━━━━━━━━━━━━━━━━━━━━━━━━━━\u001b[0m \u001b[32m147.8/147.8 MB\u001b[0m \u001b[31m7.0 MB/s\u001b[0m eta \u001b[36m0:00:00\u001b[0m\n",
            "\u001b[?25hCollecting nvidia-nvtx-cu11==11.8.86 (from torch)\n",
            "  Downloading https://download.pytorch.org/whl/cu118/nvidia_nvtx_cu11-11.8.86-py3-none-manylinux1_x86_64.whl (99 kB)\n",
            "\u001b[2K     \u001b[90m━━━━━━━━━━━━━━━━━━━━━━━━━━━━━━━━━━━━━━━━\u001b[0m \u001b[32m99.1/99.1 kB\u001b[0m \u001b[31m7.2 MB/s\u001b[0m eta \u001b[36m0:00:00\u001b[0m\n",
            "\u001b[?25hCollecting triton==3.1.0 (from torch)\n",
            "  Downloading https://download.pytorch.org/whl/triton-3.1.0-cp310-cp310-manylinux_2_17_x86_64.manylinux2014_x86_64.whl (209.5 MB)\n",
            "\u001b[2K     \u001b[90m━━━━━━━━━━━━━━━━━━━━━━━━━━━━━━━━━━━━━━━━\u001b[0m \u001b[32m209.5/209.5 MB\u001b[0m \u001b[31m5.3 MB/s\u001b[0m eta \u001b[36m0:00:00\u001b[0m\n",
            "\u001b[?25hRequirement already satisfied: sympy==1.13.1 in /usr/local/lib/python3.10/dist-packages (from torch) (1.13.1)\n",
            "Requirement already satisfied: mpmath<1.4,>=1.1.0 in /usr/local/lib/python3.10/dist-packages (from sympy==1.13.1->torch) (1.3.0)\n",
            "Requirement already satisfied: numpy in /usr/local/lib/python3.10/dist-packages (from torchvision) (1.26.4)\n",
            "Requirement already satisfied: pillow!=8.3.*,>=5.3.0 in /usr/local/lib/python3.10/dist-packages (from torchvision) (11.0.0)\n",
            "Requirement already satisfied: MarkupSafe>=2.0 in /usr/local/lib/python3.10/dist-packages (from jinja2->torch) (3.0.2)\n",
            "Installing collected packages: triton, nvidia-nvtx-cu11, nvidia-nccl-cu11, nvidia-cusparse-cu11, nvidia-curand-cu11, nvidia-cufft-cu11, nvidia-cuda-runtime-cu11, nvidia-cuda-nvrtc-cu11, nvidia-cuda-cupti-cu11, nvidia-cublas-cu11, nvidia-cusolver-cu11, nvidia-cudnn-cu11, torch, torchvision, torchaudio\n",
            "  Attempting uninstall: torch\n",
            "    Found existing installation: torch 2.5.0+cu121\n",
            "    Uninstalling torch-2.5.0+cu121:\n",
            "      Successfully uninstalled torch-2.5.0+cu121\n",
            "  Attempting uninstall: torchvision\n",
            "    Found existing installation: torchvision 0.20.0+cu121\n",
            "    Uninstalling torchvision-0.20.0+cu121:\n",
            "      Successfully uninstalled torchvision-0.20.0+cu121\n",
            "  Attempting uninstall: torchaudio\n",
            "    Found existing installation: torchaudio 2.5.0+cu121\n",
            "    Uninstalling torchaudio-2.5.0+cu121:\n",
            "      Successfully uninstalled torchaudio-2.5.0+cu121\n",
            "Successfully installed nvidia-cublas-cu11-11.11.3.6 nvidia-cuda-cupti-cu11-11.8.87 nvidia-cuda-nvrtc-cu11-11.8.89 nvidia-cuda-runtime-cu11-11.8.89 nvidia-cudnn-cu11-9.1.0.70 nvidia-cufft-cu11-10.9.0.58 nvidia-curand-cu11-10.3.0.86 nvidia-cusolver-cu11-11.4.1.48 nvidia-cusparse-cu11-11.7.5.86 nvidia-nccl-cu11-2.21.5 nvidia-nvtx-cu11-11.8.86 torch-2.5.1+cu118 torchaudio-2.5.1+cu118 torchvision-0.20.1+cu118 triton-3.1.0\n"
          ]
        }
      ],
      "source": [
        "!pip install --upgrade torch torchvision torchaudio --index-url https://download.pytorch.org/whl/cu118"
      ]
    },
    {
      "cell_type": "code",
      "source": [
        "import os\n",
        "import random\n",
        "import numpy as np\n",
        "import pandas as pd\n",
        "import torch\n",
        "import torch.nn as nn\n",
        "import torch.optim as optim\n",
        "from torch.utils.data import DataLoader, Dataset\n",
        "from torch.utils.tensorboard import SummaryWriter\n",
        "from scipy.ndimage import maximum_filter1d, minimum_filter1d\n",
        "\n",
        "# Configuration\n",
        "config = {\n",
        "    'mode': 'train',  # Options: 'train' or 'test'\n",
        "    'window_length': 2,\n",
        "    'gpu_id': 0,\n",
        "    'learning_rate': 1e-3,\n",
        "    'epochs': 100,\n",
        "    'batch_size': 16,\n",
        "    'num_workers': 0,\n",
        "    'seed': 100,\n",
        "    'dataset_path': '/content/ec2_cpu_utilization_24ae8d.csv',\n",
        "    'log_dir': '/content/logs',\n",
        "    'checkpoint_path': '',\n",
        "    'transformation_list': [\"low_pass\", \"high_pass\", \"dilation\", \"erosion\", \"identity\"]\n",
        "}"
      ],
      "metadata": {
        "id": "5nMOs70lx4uR"
      },
      "execution_count": null,
      "outputs": []
    },
    {
      "cell_type": "code",
      "source": [
        "# Set device\n",
        "device = torch.device(\"cuda\" if torch.cuda.is_available() else \"cpu\")\n",
        "if torch.cuda.is_available():\n",
        "    torch.cuda.set_device(config['gpu_id'])\n",
        "\n",
        "# Seed for reproducibility\n",
        "random.seed(config['seed'])\n",
        "np.random.seed(config['seed'])\n",
        "torch.manual_seed(config['seed'])\n",
        "if torch.cuda.is_available():\n",
        "    torch.cuda.manual_seed_all(config['seed'])"
      ],
      "metadata": {
        "id": "tUvbahDox6Qz"
      },
      "execution_count": null,
      "outputs": []
    },
    {
      "cell_type": "code",
      "source": [
        "import numpy as np\n",
        "import torch\n",
        "import pandas as pd\n",
        "from torch.utils.data import Dataset\n",
        "from scipy.ndimage import maximum_filter1d, minimum_filter1d\n",
        "import random\n",
        "\n",
        "class EC2CPUUtilizationDataset(Dataset):\n",
        "    \"\"\"EC2 CPU Utilization Dataset for anomaly detection\"\"\"\n",
        "    def __init__(self, file_path, win_len=64, transformation_list=None, train=True):\n",
        "        self.file_path = file_path\n",
        "        self.win_len = win_len\n",
        "        self.transformation_list = transformation_list or [\"low_pass\", \"high_pass\", \"dilation\", \"erosion\", \"identity\"]\n",
        "        self.num_classes = len(self.transformation_list)\n",
        "        self.traces = self.load_data()\n",
        "\n",
        "    def load_data(self):\n",
        "        data = pd.read_csv(self.file_path, parse_dates=['timestamp'], index_col='timestamp')\n",
        "        values = data['value'].values\n",
        "        traces = [values[i:i + self.win_len] for i in range(len(values) - self.win_len)]\n",
        "        return traces\n",
        "\n",
        "    def transform_win(self, win):\n",
        "        trans_win = torch.FloatTensor(win)\n",
        "        trans_win = trans_win.unsqueeze(0)  # Make it 3D for model compatibility\n",
        "        return trans_win\n",
        "\n",
        "    def __len__(self):\n",
        "        return len(self.traces)\n",
        "\n",
        "    def __getitem__(self, idx):\n",
        "        tracedata = self.traces[idx]\n",
        "        orig_win = tracedata.copy()\n",
        "        trans_win = tracedata.copy()\n",
        "\n",
        "        transform_id = random.randint(0, self.num_classes - 1)\n",
        "        if self.transformation_list[transform_id] == \"low_pass\":\n",
        "            trans_win = self.apply_filter_on_1D_data(trans_win, [1/3, 1/3, 1/3])\n",
        "        elif self.transformation_list[transform_id] == \"high_pass\":\n",
        "            trans_win = self.apply_filter_on_1D_data(trans_win, [-1/2, 0, 1/2])\n",
        "        elif self.transformation_list[transform_id] == \"dilation\":\n",
        "            trans_win = self.apply_dilation(trans_win, filter_size=3)\n",
        "        elif self.transformation_list[transform_id] == \"erosion\":\n",
        "            trans_win = self.apply_erosion(trans_win, filter_size=3)\n",
        "\n",
        "        # Adjust the length of trans_win to match win_len\n",
        "        trans_win = self.adjust_length(trans_win)\n",
        "\n",
        "        # Convert to tensors and reshape\n",
        "        trans_win = self.transform_win(trans_win)\n",
        "        orig_win = self.transform_win(orig_win)\n",
        "\n",
        "        return orig_win, trans_win, transform_id\n",
        "\n",
        "    def adjust_length(self, sequence):\n",
        "        \"\"\"Adjust sequence length to match win_len by padding or truncating.\"\"\"\n",
        "        sequence = np.array(sequence)\n",
        "        if len(sequence) < self.win_len:\n",
        "            # Pad with the last value if sequence is too short\n",
        "            padding = np.full(self.win_len - len(sequence), sequence[-1])\n",
        "            sequence = np.concatenate([sequence, padding])\n",
        "        elif len(sequence) > self.win_len:\n",
        "            # Truncate if sequence is too long\n",
        "            sequence = sequence[:self.win_len]\n",
        "        return sequence\n",
        "\n",
        "    def apply_filter_on_1D_data(self, input_data, filter_coeffs):\n",
        "        input_data = np.array(input_data).flatten()\n",
        "        return np.convolve(input_data, filter_coeffs, 'same')\n",
        "\n",
        "    def apply_dilation(self, input_data, filter_size):\n",
        "        return maximum_filter1d(input_data, size=filter_size, mode='nearest')\n",
        "\n",
        "    def apply_erosion(self, input_data, filter_size):\n",
        "        return minimum_filter1d(input_data, size=filter_size, mode='nearest')\n"
      ],
      "metadata": {
        "id": "hPY6gXfox8Bt"
      },
      "execution_count": null,
      "outputs": []
    },
    {
      "cell_type": "code",
      "source": [
        "dataset = EC2CPUUtilizationDataset(\n",
        "        file_path=config['dataset_path'],\n",
        "        win_len=config['window_length'],\n",
        "        transformation_list=config['transformation_list']\n",
        "    )"
      ],
      "metadata": {
        "id": "uCUsfn3sx9oP"
      },
      "execution_count": null,
      "outputs": []
    },
    {
      "cell_type": "code",
      "source": [
        "sample_orig, sample_trans, _ = dataset[0]\n",
        "input_dim = sample_orig.shape[1]  # Automatically derived from dataset sample\n",
        "print(input_dim)"
      ],
      "metadata": {
        "colab": {
          "base_uri": "https://localhost:8080/"
        },
        "id": "kaxKrmP2x_bw",
        "outputId": "5f89b2c5-6967-419e-884e-adaf38488888"
      },
      "execution_count": null,
      "outputs": [
        {
          "output_type": "stream",
          "name": "stdout",
          "text": [
            "2\n"
          ]
        }
      ]
    },
    {
      "cell_type": "markdown",
      "source": [
        "### Model Definition"
      ],
      "metadata": {
        "id": "EHuM1Z7lQFBJ"
      }
    },
    {
      "cell_type": "code",
      "source": [
        "import torch\n",
        "import torch.nn as nn\n",
        "\n",
        "# Dynamically adapt model dimensions based on data input shape\n",
        "class EncBlock(nn.Module):\n",
        "    def __init__(self, in_features, out_features):\n",
        "        super(EncBlock, self).__init__()\n",
        "        self.layers = nn.Sequential(nn.Linear(in_features, out_features))\n",
        "\n",
        "    def forward(self, x):\n",
        "        out = self.layers(x)\n",
        "        return torch.cat([x, out], dim=-1)  # Concatenate along the last dimension\n",
        "\n",
        "class LeNet5(nn.Module):\n",
        "    def __init__(self, n_classes, in_feat):\n",
        "        super(LeNet5, self).__init__()\n",
        "        self.layer1 = nn.Sequential(nn.Linear(in_feat, 120), nn.Tanh())\n",
        "        self.layer2 = nn.Linear(120, 84)\n",
        "        self.enc = EncBlock(in_features=84, out_features=84)\n",
        "\n",
        "    def forward(self, x):\n",
        "        # Process input through the layers\n",
        "        x = self.layer1(x)  # Shape: [batch_size, 120]\n",
        "        x = self.layer2(x)  # Shape: [batch_size, 84]\n",
        "\n",
        "        # Ensure enc outputs 2 * enc_dim features\n",
        "        feat = self.enc(x)  # Shape: [batch_size, 84 + 84 = 168]\n",
        "\n",
        "        # Split `feat` into `mu` and `logvar`\n",
        "        enc_dim = feat.shape[-1] // 2\n",
        "        mu = feat[:, :enc_dim]     # Shape: [batch_size, 84]\n",
        "        logvar = feat[:, enc_dim:]  # Shape: [batch_size, 84]\n",
        "\n",
        "        # Compute `std` and sample using the reparameterization trick\n",
        "        std = torch.exp(0.5 * logvar)\n",
        "        eps = torch.randn_like(std)\n",
        "        return eps.mul(std * 0.001).add_(mu)\n",
        "\n",
        "class Regressor(nn.Module):\n",
        "    def __init__(self, input_dim, num_classes):\n",
        "        super(Regressor, self).__init__()\n",
        "        self.lenet = LeNet5(n_classes=num_classes, in_feat=input_dim)\n",
        "        self.fc1 = nn.Linear(84 * 2, 42)  # Adjusted to match the output shape of LeNet5 * 2 for concatenation\n",
        "        self.fc2 = nn.Linear(42, num_classes)\n",
        "\n",
        "    def forward(self, x1, x2,last=False):\n",
        "        # Pass each input through the LeNet5\n",
        "        x1 = x1.view(x1.size(0), -1)\n",
        "        x2= x2.view(x2.size(0), -1)\n",
        "        x1 = self.lenet(x1)  # Shape: [batch_size, 84]\n",
        "        x2 = self.lenet(x2)  # Shape: [batch_size, 84]\n",
        "        # Concatenate the two outputs from LeNet5\n",
        "        x = torch.cat((x1, x2), dim=1)  # Shape: [batch_size, 84 * 2 = 168]\n",
        "        #print(x.shape)\n",
        "        # Pass through fully connected layers\n",
        "        x = torch.relu(self.fc1(x))  # Shape: [batch_size, 42]\n",
        "        #print(x.shape)\n",
        "        if(last):\n",
        "            return x,self.fc2(x)  # Shape: [batch_size, num_classes]\n",
        "        return self.fc2(x)  # Shape: [batch_size, num_classes]\n"
      ],
      "metadata": {
        "id": "iCS3CXdUyBk1"
      },
      "execution_count": null,
      "outputs": []
    },
    {
      "cell_type": "code",
      "source": [
        "model = Regressor(input_dim=input_dim, num_classes=len(config['transformation_list'])).to(device)\n",
        "if config['checkpoint_path']:\n",
        "    model.load_state_dict(torch.load(config['checkpoint_path']))"
      ],
      "metadata": {
        "id": "RBjGt3xwyDdn"
      },
      "execution_count": null,
      "outputs": []
    },
    {
      "cell_type": "code",
      "source": [
        "train_size = int(0.8 * len(dataset))\n",
        "val_size = len(dataset) - train_size\n",
        "train_dataset, val_dataset = torch.utils.data.random_split(dataset, [train_size, val_size])\n",
        "train_dataloader = DataLoader(train_dataset, batch_size=config['batch_size'], shuffle=True, num_workers=config['num_workers'])\n",
        "val_dataloader = DataLoader(val_dataset, batch_size=config['batch_size'], shuffle=False, num_workers=config['num_workers'])"
      ],
      "metadata": {
        "id": "2bE6WxxtyFN3"
      },
      "execution_count": null,
      "outputs": []
    },
    {
      "cell_type": "code",
      "source": [
        "for orig_data, trans_data, label in train_dataloader:\n",
        "    print(orig_data.shape)\n",
        "    print(trans_data.shape)\n",
        "    print(label.shape)\n",
        "    break"
      ],
      "metadata": {
        "colab": {
          "base_uri": "https://localhost:8080/"
        },
        "id": "82kC-602yHl8",
        "outputId": "589d4549-b588-49cc-8966-a7c51a697f75"
      },
      "execution_count": null,
      "outputs": [
        {
          "output_type": "stream",
          "name": "stdout",
          "text": [
            "torch.Size([16, 1, 2])\n",
            "torch.Size([16, 1, 2])\n",
            "torch.Size([16])\n"
          ]
        }
      ]
    },
    {
      "cell_type": "code",
      "source": [
        "# Main script\n",
        "if __name__ == '__main__':\n",
        "    criterion = nn.CrossEntropyLoss()\n",
        "    optimizer = optim.Adam(model.parameters(), lr=config['learning_rate'])\n",
        "\n",
        "    # Training loop\n",
        "    for epoch in range(1, config['epochs'] + 1):\n",
        "        model.train()\n",
        "        total_loss = 0\n",
        "        correct_predictions = 0\n",
        "        total_samples = 0\n",
        "\n",
        "        for orig_data, trans_data, label in train_dataloader:\n",
        "            orig_data, trans_data, label = orig_data.to(device), trans_data.to(device), label.to(device)\n",
        "\n",
        "            optimizer.zero_grad()\n",
        "            output = model(orig_data, trans_data)\n",
        "            loss = criterion(output, label)\n",
        "            loss.backward()\n",
        "            optimizer.step()\n",
        "            total_loss += loss.item()\n",
        "\n",
        "            # Calculate accuracy\n",
        "            _, predicted = torch.max(output, dim=1)\n",
        "            correct_predictions += (predicted == label).sum().item()\n",
        "            total_samples += label.size(0)\n",
        "\n",
        "        avg_loss = total_loss / len(train_dataloader)\n",
        "        accuracy = 100 * correct_predictions / total_samples\n",
        "\n",
        "        if epoch % 10 == 0:\n",
        "            print(f\"Epoch [{epoch}/{config['epochs']}], Loss: {avg_loss:.4f}, Accuracy: {accuracy:.2f}%\")\n"
      ],
      "metadata": {
        "colab": {
          "base_uri": "https://localhost:8080/"
        },
        "id": "XuccwK8WyJV5",
        "outputId": "652fc805-17e1-4494-fe88-38214cc27bc7"
      },
      "execution_count": null,
      "outputs": [
        {
          "output_type": "stream",
          "name": "stdout",
          "text": [
            "Epoch [10/100], Loss: 0.4088, Accuracy: 79.56%\n",
            "Epoch [20/100], Loss: 0.4418, Accuracy: 80.77%\n",
            "Epoch [30/100], Loss: 0.3433, Accuracy: 82.72%\n",
            "Epoch [40/100], Loss: 0.3179, Accuracy: 84.65%\n",
            "Epoch [50/100], Loss: 0.3634, Accuracy: 81.48%\n",
            "Epoch [60/100], Loss: 0.3197, Accuracy: 84.27%\n",
            "Epoch [70/100], Loss: 0.3204, Accuracy: 84.18%\n",
            "Epoch [80/100], Loss: 0.3139, Accuracy: 84.52%\n",
            "Epoch [90/100], Loss: 0.2969, Accuracy: 85.51%\n",
            "Epoch [100/100], Loss: 0.2732, Accuracy: 85.95%\n"
          ]
        }
      ]
    },
    {
      "cell_type": "markdown",
      "source": [
        "### FGSM Attack"
      ],
      "metadata": {
        "id": "RuLzbg3tQMk0"
      }
    },
    {
      "cell_type": "code",
      "source": [
        "import numpy as np\n",
        "import pandas as pd\n",
        "import torch\n",
        "import torch.nn as nn\n",
        "import torch.optim as optim\n",
        "from torch.utils.data import Dataset, DataLoader\n",
        "import torch.nn.functional as F\n",
        "\n",
        "# Path to the original dataset\n",
        "dataset_path = '/content/ec2_cpu_utilization_24ae8d.csv'\n",
        "\n",
        "# Load and preprocess dataset\n",
        "class EC2CPUUtilizationDataset(Dataset):\n",
        "    def __init__(self, file_path):\n",
        "        self.data = pd.read_csv(file_path, parse_dates=['timestamp'], index_col='timestamp')\n",
        "        self.values = torch.tensor(self.data['value'].values, dtype=torch.float32)\n",
        "\n",
        "    def __len__(self):\n",
        "        return len(self.values)\n",
        "\n",
        "    def __getitem__(self, idx):\n",
        "        return self.values[idx]\n",
        "\n",
        "# Load dataset\n",
        "dataset2 = EC2CPUUtilizationDataset(dataset_path)\n",
        "dataloader = DataLoader(dataset, batch_size=1, shuffle=False)\n",
        "\n",
        "\n",
        "# FGSM Attack\n",
        "def fgsm_attack(data, epsilon, data_grad):\n",
        "    sign_data_grad = data_grad.sign()\n",
        "    perturbed_data = data + epsilon * sign_data_grad\n",
        "    return perturbed_data\n",
        "\n",
        "# Generate perturbed values\n",
        "epsilon = 0.08\n",
        "perturbed_values = []\n",
        "timestamps=[]\n",
        "model.eval()\n",
        "for orig_data, trans_data, label in dataloader:\n",
        "    orig_data, trans_data, label = orig_data.to(device), trans_data.to(device), label.to(device)\n",
        "    orig_data.requires_grad = True\n",
        "    optimizer.zero_grad()\n",
        "    output = model(orig_data, trans_data)\n",
        "    loss = criterion(output, label)\n",
        "    # Backward pass to get gradients\n",
        "    model.zero_grad()\n",
        "    loss.backward()\n",
        "\n",
        "    # Get the perturbations using FGSM\n",
        "    data_grad = orig_data.grad.data\n",
        "    perturbed_value = fgsm_attack(orig_data, epsilon, data_grad)\n",
        "\n",
        "    # Append perturbed data for CSV\n",
        "    perturbed_values.append(perturbed_value[0][0][0].item())\n",
        "\n",
        "\n",
        "# Save perturbed dataset to CSV\n",
        "#print(len(perturbed_values[:4031]))\n",
        "#print(len(dataset2.data.index))\n",
        "perturbed_df = pd.DataFrame({\n",
        "    'timestamp': dataset2.data.index[:4030],\n",
        "    'value': perturbed_values\n",
        "})\n",
        "perturbed_df.to_csv(\"EC2CPUUtilizationDataset_perturbed.csv\", index=False)\n",
        "\n",
        "print(\"Perturbed dataset saved to 'EC2CPUUtilizationDataset_perturbed.csv'\")\n"
      ],
      "metadata": {
        "colab": {
          "base_uri": "https://localhost:8080/"
        },
        "id": "N3cpZsAAyLid",
        "outputId": "1d406853-5118-4f5b-9b4d-dde99683f3d9"
      },
      "execution_count": null,
      "outputs": [
        {
          "output_type": "stream",
          "name": "stdout",
          "text": [
            "Perturbed dataset saved to 'EC2CPUUtilizationDataset_perturbed.csv'\n"
          ]
        }
      ]
    },
    {
      "cell_type": "code",
      "source": [
        "import pandas as pd\n",
        "import matplotlib.pyplot as plt\n",
        "\n",
        "# Load the original and perturbed datasets\n",
        "original_data = pd.read_csv('/content/ec2_cpu_utilization_24ae8d.csv', parse_dates=['timestamp'], index_col='timestamp')\n",
        "perturbed_data = pd.read_csv('/content/EC2CPUUtilizationDataset_perturbed.csv', parse_dates=['timestamp'], index_col='timestamp')\n",
        "\n",
        "# Plot both datasets on the same graph\n",
        "plt.figure(figsize=(14, 7))\n",
        "plt.plot(original_data.index, original_data['value'], label='Original', color='blue', alpha=0.7)\n",
        "plt.plot(perturbed_data.index, perturbed_data['value'], label='Perturbed', color='red', alpha=0.7)\n",
        "\n",
        "# Customize plot\n",
        "plt.title(\"Original vs Perturbed EC2 CPU Utilization\")\n",
        "plt.xlabel(\"Timestamp\")\n",
        "plt.ylabel(\"CPU Utilization Value\")\n",
        "plt.legend()\n",
        "plt.show()\n"
      ],
      "metadata": {
        "colab": {
          "base_uri": "https://localhost:8080/",
          "height": 641
        },
        "id": "xedGum7YyPjf",
        "outputId": "a2af6424-2141-40a0-e50a-ff8e3b6186c4"
      },
      "execution_count": null,
      "outputs": [
        {
          "output_type": "display_data",
          "data": {
            "text/plain": [
              "<Figure size 1400x700 with 1 Axes>"
            ],
            "image/png": "[encoded data removed]"
          },
          "metadata": {}
        }
      ]
    },
    {
      "cell_type": "code",
      "source": [
        "# Hardcoded parameters\n",
        "workers = 4\n",
        "batch_size = 64\n",
        "use_cuda = True\n",
        "checkpoint_path = '/content/drive/MyDrive/model_checkpoint.pth'  # Update with your checkpoint path\n",
        "gpu_id = '0'\n",
        "trials = 1\n",
        "window_length = 2\n",
        "n = 5  # Number of continuous windows with p-value < epsilon to detect OODness in the trace\n",
        "seed = 100\n",
        "save_dir = '/content/results'\n",
        "dataset_path = '/content/EC2CPUUtilizationDataset_perturbed.csv'  # Update with your dataset path\n",
        "transformation_list = [\"low_pass\", \"high_pass\", \"dilation\", \"erosion\", \"identity\"]"
      ],
      "metadata": {
        "id": "BS-pc8JoyRcH"
      },
      "execution_count": null,
      "outputs": []
    },
    {
      "cell_type": "code",
      "source": [
        "# Set the model to evaluation mode\n",
        "model.eval()"
      ],
      "metadata": {
        "id": "fSWY2ancyTkz"
      },
      "execution_count": null,
      "outputs": []
    },
    {
      "cell_type": "code",
      "source": [
        "import numpy as np\n",
        "import torch\n",
        "import pandas as pd\n",
        "from torch.utils.data import Dataset\n",
        "from scipy.ndimage import maximum_filter1d, minimum_filter1d\n",
        "import random\n",
        "\n",
        "class EC2CPUUtilizationDataset(Dataset):\n",
        "    \"\"\"EC2 CPU Utilization Dataset for anomaly detection\"\"\"\n",
        "    def __init__(self, file_path, win_len=64, transformation_list=None, train=True):\n",
        "        self.file_path = file_path\n",
        "        self.win_len = win_len\n",
        "        self.transformation_list = transformation_list or [\"low_pass\", \"high_pass\", \"dilation\", \"erosion\", \"identity\"]\n",
        "        self.num_classes = len(self.transformation_list)\n",
        "        self.traces = self.load_data()\n",
        "\n",
        "    def load_data(self):\n",
        "        data = pd.read_csv(self.file_path, parse_dates=['timestamp'], index_col='timestamp')\n",
        "        values = data['value'].values\n",
        "        traces = [values[i:i + self.win_len] for i in range(len(values) - self.win_len)]\n",
        "        return traces\n",
        "\n",
        "    def transform_win(self, win):\n",
        "        trans_win = torch.FloatTensor(win)\n",
        "        trans_win = trans_win.unsqueeze(0)  # Make it 3D for model compatibility\n",
        "        return trans_win\n",
        "\n",
        "    def __len__(self):\n",
        "        return len(self.traces)\n",
        "\n",
        "    def __getitem__(self, idx):\n",
        "        tracedata = self.traces[idx]\n",
        "        orig_win = tracedata.copy()\n",
        "        trans_win = tracedata.copy()\n",
        "\n",
        "        transform_id = random.randint(0, self.num_classes - 1)\n",
        "        if self.transformation_list[transform_id] == \"low_pass\":\n",
        "            trans_win = self.apply_filter_on_1D_data(trans_win, [1/3, 1/3, 1/3])\n",
        "        elif self.transformation_list[transform_id] == \"high_pass\":\n",
        "            trans_win = self.apply_filter_on_1D_data(trans_win, [-1/2, 0, 1/2])\n",
        "        elif self.transformation_list[transform_id] == \"dilation\":\n",
        "            trans_win = self.apply_dilation(trans_win, filter_size=3)\n",
        "        elif self.transformation_list[transform_id] == \"erosion\":\n",
        "            trans_win = self.apply_erosion(trans_win, filter_size=3)\n",
        "\n",
        "        # Adjust the length of trans_win to match win_len\n",
        "        trans_win = self.adjust_length(trans_win)\n",
        "\n",
        "        # Convert to tensors and reshape\n",
        "        trans_win = self.transform_win(trans_win)\n",
        "        orig_win = self.transform_win(orig_win)\n",
        "\n",
        "        return orig_win, trans_win, transform_id\n",
        "\n",
        "    def adjust_length(self, sequence):\n",
        "        \"\"\"Adjust sequence length to match win_len by padding or truncating.\"\"\"\n",
        "        sequence = np.array(sequence)\n",
        "        if len(sequence) < self.win_len:\n",
        "            # Pad with the last value if sequence is too short\n",
        "            padding = np.full(self.win_len - len(sequence), sequence[-1])\n",
        "            sequence = np.concatenate([sequence, padding])\n",
        "        elif len(sequence) > self.win_len:\n",
        "            # Truncate if sequence is too long\n",
        "            sequence = sequence[:self.win_len]\n",
        "        return sequence\n",
        "\n",
        "    def apply_filter_on_1D_data(self, input_data, filter_coeffs):\n",
        "        input_data = np.array(input_data).flatten()\n",
        "        return np.convolve(input_data, filter_coeffs, 'same')\n",
        "\n",
        "    def apply_dilation(self, input_data, filter_size):\n",
        "        return maximum_filter1d(input_data, size=filter_size, mode='nearest')\n",
        "\n",
        "    def apply_erosion(self, input_data, filter_size):\n",
        "        return minimum_filter1d(input_data, size=filter_size, mode='nearest')"
      ],
      "metadata": {
        "id": "qlmCi2W2QrWr"
      },
      "execution_count": null,
      "outputs": []
    },
    {
      "cell_type": "code",
      "source": [
        "perturbed_dataset = EC2CPUUtilizationDataset(\n",
        "    file_path=\"/content/EC2CPUUtilizationDataset_perturbed.csv\",\n",
        "    win_len=window_length,\n",
        "    transformation_list=transformation_list\n",
        ")"
      ],
      "metadata": {
        "id": "-gZXKiXtyVfX"
      },
      "execution_count": null,
      "outputs": []
    },
    {
      "cell_type": "markdown",
      "source": [
        "### NCM: Cross-Entropy Loss"
      ],
      "metadata": {
        "id": "rIFlfH0hQUcc"
      }
    },
    {
      "cell_type": "code",
      "source": [
        "import torch\n",
        "import numpy as np\n",
        "import os\n",
        "from torch.utils.data import DataLoader\n",
        "from sklearn.metrics import roc_auc_score\n",
        "\n",
        "# Assuming `dataset` is the original dataset and `perturbed_dataset` is the perturbed dataset\n",
        "\n",
        "# Define parameters\n",
        "seed = 42\n",
        "batch_size = 64\n",
        "workers = 2\n",
        "save_dir = './results'\n",
        "device = torch.device(\"cuda\" if torch.cuda.is_available() else \"cpu\")\n",
        "\n",
        "# Load the original and perturbed datasets\n",
        "# Use original dataset as both calibration and in-distribution data\n",
        "cal_dataset = dataset  # Original dataset\n",
        "in_test_dataset = dataset  # Original dataset\n",
        "\n",
        "# Use perturbed dataset as out-of-distribution data\n",
        "out_test_dataset = perturbed_dataset\n",
        "\n",
        "# Create DataLoaders\n",
        "cal_dataloader = DataLoader(cal_dataset, batch_size=batch_size, shuffle=False, num_workers=workers)\n",
        "in_test_dataloader = DataLoader(in_test_dataset, batch_size=batch_size, shuffle=False, num_workers=workers)\n",
        "out_test_dataloader = DataLoader(out_test_dataset, batch_size=batch_size, shuffle=False, num_workers=workers)\n",
        "# Define the loss criterion\n",
        "criterion = nn.CrossEntropyLoss()\n",
        "\n",
        "# Function to calculate cross-entropy loss for each sample in the dataset\n",
        "def calculate_ce_loss(model, dataloader):\n",
        "    model.eval()\n",
        "    total_loss = []\n",
        "    with torch.no_grad():\n",
        "        for orig_data, trans_data, label in dataloader:\n",
        "            orig_data, trans_data, label = orig_data.to(device), trans_data.to(device), label.to(device)\n",
        "            output = model(orig_data, trans_data)\n",
        "            loss = criterion(output, label)\n",
        "            total_loss.append(loss.item())\n",
        "    return np.array(total_loss)\n",
        "\n",
        "# Calculate CE loss for calibration set\n",
        "cal_ce_loss = calculate_ce_loss(model, cal_dataloader)\n",
        "print(\"Calibration CE Loss:\", cal_ce_loss)\n",
        "#np.save(os.path.join(save_dir, 'cal_ce_loss.npy'), cal_ce_loss)\n",
        "\n",
        "# Calculate CE loss for in-distribution test set\n",
        "in_test_ce_loss = calculate_ce_loss(model, in_test_dataloader)\n",
        "print(\"In-distribution CE Loss:\", in_test_ce_loss)\n",
        "#np.save(os.path.join(save_dir, 'in_test_ce_loss.npy'), in_test_ce_loss)\n",
        "\n",
        "# Calculate CE loss for out-of-distribution test set\n",
        "out_test_ce_loss = calculate_ce_loss(model, out_test_dataloader)\n",
        "print(\"Out-of-distribution CE Loss:\", out_test_ce_loss)\n",
        "#np.save(os.path.join(save_dir, 'out_test_ce_loss.npy'), out_test_ce_loss)\n",
        "\n",
        "# Function to calculate p-values\n",
        "def calc_p_value(test_loss, cal_losses):\n",
        "    cal_losses_sorted = np.sort(cal_losses)\n",
        "    p_value = (cal_losses_sorted >= test_loss).sum() / len(cal_losses_sorted)\n",
        "    return p_value\n",
        "\n",
        "# Calculate p-values for in-distribution and out-of-distribution test sets\n",
        "in_p_values = np.array([calc_p_value(loss, cal_ce_loss) for loss in in_test_ce_loss])\n",
        "out_p_values = np.array([calc_p_value(loss, cal_ce_loss) for loss in out_test_ce_loss])\n",
        "\n",
        "# Evaluate AUROC\n",
        "labels = np.concatenate([np.zeros(len(out_p_values)), np.ones(len(in_p_values))])\n",
        "scores = np.concatenate([out_p_values, in_p_values])\n",
        "auroc = roc_auc_score(labels, scores)\n",
        "print(f'AUROC: {auroc * 100:.2f}%')\n",
        "\n",
        "\n"
      ],
      "metadata": {
        "colab": {
          "base_uri": "https://localhost:8080/"
        },
        "id": "CN5owKQryXmp",
        "outputId": "36814925-6aa5-45a1-ce39-227249b7f0e9"
      },
      "execution_count": null,
      "outputs": [
        {
          "output_type": "stream",
          "name": "stdout",
          "text": [
            "Calibration CE Loss: [0.30418685 0.23234655 0.2772043  0.29798308 0.29379788 0.46648228\n",
            " 0.14414604 0.28986931 0.15444842 0.29214126 0.28610554 0.31497085\n",
            " 0.24527462 0.21832062 0.28245774 0.38468197 0.3343356  0.37613997\n",
            " 0.33162686 0.28457341 0.22657722 0.27737263 0.35486913 0.2985234\n",
            " 0.34222457 0.28745282 0.36744055 0.30324775 0.43030429 0.26625302\n",
            " 0.310772   0.27495342 0.26468635 0.103737   0.23489459 0.31407967\n",
            " 0.2435022  0.24749702 0.16315123 0.16892217 0.25930083 0.40252805\n",
            " 0.28260568 0.22476649 0.22238693 0.38665378 0.37323877 0.24229325\n",
            " 0.18885842 0.21826947 0.47283903 0.18407534 0.53961039 0.22427544\n",
            " 0.27332932 0.21887025 0.20953061 0.16652191 0.31580654 0.34987295\n",
            " 0.28279448 0.31790996 0.27939355]\n",
            "In-distribution CE Loss: [0.39364383 0.33871576 0.31248906 0.22758113 0.36871684 0.28611994\n",
            " 0.25469762 0.15425557 0.1779183  0.21984152 0.21795267 0.25443467\n",
            " 0.26386529 0.29361558 0.38072741 0.36689797 0.23958902 0.29988736\n",
            " 0.21397729 0.32127276 0.15664917 0.19887845 0.24006827 0.41031066\n",
            " 0.76775485 0.33037254 0.21733277 0.35937592 0.28809613 0.13393469\n",
            " 0.29265627 0.31710199 0.22794572 0.30895489 0.21093929 0.19005686\n",
            " 0.34428167 0.20483936 0.21000302 0.17372745 0.28616902 0.28028268\n",
            " 0.31581864 0.23621574 0.20899187 0.3384138  0.34505358 0.27893597\n",
            " 0.23719478 0.24928112 0.34003884 0.38710573 0.48428538 0.24059987\n",
            " 0.34313369 0.24051769 0.24074745 0.24954668 0.33871275 0.46235302\n",
            " 0.32560843 0.3496488  0.31913483]\n",
            "Out-of-distribution CE Loss: [4.53502893 6.72605276 3.40505099 5.23278141 1.83660161 4.35980558\n",
            " 3.83746719 8.91832733 4.35677814 2.77105093 6.44670105 7.29854727\n",
            " 3.94041657 3.94832945 2.73878193 4.87789392 3.90235043 3.76193404\n",
            " 4.40335464 4.0331645  5.14757633 6.11077738 3.86699843 2.91480374\n",
            " 4.43974161 5.83775663 5.65330029 3.94391942 5.7099123  5.18440866\n",
            " 3.701159   4.60287333 3.501719   8.88189602 4.96066713 6.28594255\n",
            " 8.10859394 3.62545943 5.50951433 8.15206337 6.19008398 4.2356348\n",
            " 4.4015398  3.58036661 5.93273067 4.12123013 1.44719541 4.687603\n",
            " 6.16464615 4.40195465 3.99995089 1.63202381 3.9154613  4.88513517\n",
            " 1.93243814 2.74458289 4.9758606  4.48050022 4.87846661 5.38607931\n",
            " 3.18464065 4.69271374 3.49492908]\n",
            "AUROC: 99.21%\n"
          ]
        }
      ]
    },
    {
      "cell_type": "markdown",
      "source": [
        "### NCM: Activation"
      ],
      "metadata": {
        "id": "r7hMeglvQaRt"
      }
    },
    {
      "cell_type": "code",
      "source": [
        "import numpy as np\n",
        "\n",
        "# Extract model outputs\n",
        "def extract_model_outputs(dataloader, model):\n",
        "    model.eval()\n",
        "    model_outputs = []\n",
        "\n",
        "    with torch.no_grad():\n",
        "        for orig_data, trans_data, label in dataloader:\n",
        "            orig_data = orig_data.to(device)\n",
        "            trans_data = trans_data.to(device)\n",
        "\n",
        "            # Get model outputs (fc2(x))\n",
        "            activation,outputs = model(orig_data, trans_data,last=True)\n",
        "            model_outputs.append(activation.cpu().numpy())\n",
        "\n",
        "    return np.concatenate(model_outputs, axis=0)\n",
        "\n",
        "# Compute percentile-based thresholds for model outputs\n",
        "def compute_percentile_thresholds(dataloader, model, lower_percentile=2.5, upper_percentile=97.5):\n",
        "    model_outputs = extract_model_outputs(dataloader, model)\n",
        "    lower_bounds = np.percentile(model_outputs, lower_percentile, axis=0)\n",
        "    upper_bounds = np.percentile(model_outputs, upper_percentile, axis=0)\n",
        "    return lower_bounds, upper_bounds\n",
        "\n",
        "# Calculate nonconformity scores based on output thresholds\n",
        "def calculate_nonconformity_score_percentile(dataloader, model, lower_bounds, upper_bounds):\n",
        "    model_outputs = extract_model_outputs(dataloader, model)\n",
        "    # Proportion of outputs outside the percentile-based thresholds\n",
        "    out_of_bounds = np.sum((model_outputs < lower_bounds) | (model_outputs > upper_bounds), axis=1)\n",
        "    return out_of_bounds / model_outputs.shape[1]\n",
        "\n",
        "# Calibration phase: Compute percentile thresholds\n",
        "lower_bounds, upper_bounds = compute_percentile_thresholds(cal_dataloader, model)\n",
        "\n",
        "# Calculate nonconformity scores for calibration, in-distribution, and out-of-distribution datasets\n",
        "cal_nonconformity_scores = calculate_nonconformity_score_percentile(cal_dataloader, model, lower_bounds, upper_bounds)\n",
        "in_test_nonconformity_scores = calculate_nonconformity_score_percentile(in_test_dataloader, model, lower_bounds, upper_bounds)\n",
        "out_test_nonconformity_scores = calculate_nonconformity_score_percentile(out_test_dataloader, model, lower_bounds, upper_bounds)\n",
        "\n",
        "# Update p-value calculation\n",
        "def calc_p_value(test_score, cal_scores):\n",
        "    cal_scores_sorted = np.sort(cal_scores)\n",
        "    p_value = (cal_scores_sorted >= test_score).sum() / len(cal_scores_sorted)\n",
        "    return p_value\n",
        "\n",
        "# Calculate p-values for in-distribution and out-of-distribution test sets\n",
        "in_p_values = np.array([calc_p_value(score, cal_nonconformity_scores) for score in in_test_nonconformity_scores])\n",
        "out_p_values = np.array([calc_p_value(score, cal_nonconformity_scores) for score in out_test_nonconformity_scores])\n",
        "\n",
        "# Evaluate AUROC\n",
        "labels = np.concatenate([np.zeros(len(out_p_values)), np.ones(len(in_p_values))])\n",
        "scores = np.concatenate([out_p_values, in_p_values])\n",
        "auroc = roc_auc_score(labels, scores)\n",
        "print(f'AUROC: {auroc * 100:.2f}%')\n"
      ],
      "metadata": {
        "colab": {
          "base_uri": "https://localhost:8080/"
        },
        "id": "BfmsePRRzax9",
        "outputId": "2e5995e2-da7f-4634-dcae-406540b3034a"
      },
      "execution_count": null,
      "outputs": [
        {
          "output_type": "stream",
          "name": "stdout",
          "text": [
            "AUROC: 85.10%\n"
          ]
        }
      ]
    },
    {
      "cell_type": "markdown",
      "source": [
        "### Baseline"
      ],
      "metadata": {
        "id": "ishJ3o3yQgSn"
      }
    },
    {
      "cell_type": "code",
      "source": [
        "import numpy as np\n",
        "import pandas as pd\n",
        "from sklearn.svm import OneClassSVM\n",
        "from sklearn import preprocessing\n",
        "import os\n",
        "\n",
        "# Hardcoded configuration\n",
        "config = {\n",
        "    'window_length': 2,  # Set sliding window length\n",
        "    'root_dir': '/content/EC2CPUUtilizationDataset_perturbed.csv',  # Update this path as per your Colab setup\n",
        "}\n",
        "\n",
        "# Load the EC2 CPU Utilization dataset\n",
        "data = pd.read_csv(config['root_dir'])\n",
        "perturbed_data = pd.read_csv('/content/EC2CPUUtilizationDataset_perturbed.csv')\n",
        "data=pd.concat([data,perturbed_data])\n",
        "# Extract timestamps and CPU utilization values\n",
        "timestamps = data['timestamp'].values  # Timestamp column (can be ignored if not required for model)\n",
        "cpu_values = data['value'].values  # CPU utilization values column\n",
        "\n",
        "# Normalize CPU utilization values\n",
        "scaler = preprocessing.StandardScaler()\n",
        "cpu_values = scaler.fit_transform(cpu_values.reshape(-1, 1)).flatten()\n",
        "\n",
        "# Create sliding windows for the dataset\n",
        "def create_sliding_windows(data, window_length):\n",
        "    windows = []\n",
        "    for start in range(len(data) - window_length + 1):\n",
        "        windows.append(data[start:start + window_length])\n",
        "    return np.array(windows)\n",
        "\n",
        "# Prepare training and testing windows (Assume last 10% is OOD test data)\n",
        "window_length = config['window_length']\n",
        "windows = create_sliding_windows(cpu_values, window_length)\n",
        "\n",
        "# Split into training and testing data\n",
        "split_index = int(0.5 * len(windows))\n",
        "training_windows = windows[:split_index]\n",
        "testing_windows = windows[split_index:]\n",
        "\n",
        "# Compute auto-correlation for windows\n",
        "def compute_autocorrelation(data):\n",
        "    correlated_data = []\n",
        "    for win in data:\n",
        "        cor_data = np.correlate(win, win, mode='full')[len(win) - 1:]  # Auto-correlation\n",
        "        correlated_data.append(cor_data)\n",
        "    return np.array(correlated_data)\n",
        "\n",
        "# Auto-correlation for training and testing windows\n",
        "correlated_training_windows = compute_autocorrelation(training_windows)\n",
        "correlated_testing_windows = compute_autocorrelation(testing_windows)\n",
        "\n",
        "# Scaling the data\n",
        "scaler = preprocessing.StandardScaler().fit(correlated_training_windows)\n",
        "correlated_training_windows = scaler.transform(correlated_training_windows)\n",
        "correlated_testing_windows = scaler.transform(correlated_testing_windows)\n",
        "\n",
        "# Train one-class SVM\n",
        "clf = OneClassSVM().fit(correlated_training_windows)\n",
        "training_scores = clf.predict(correlated_training_windows)\n",
        "testing_scores = clf.predict(correlated_testing_windows)\n",
        "\n",
        "# AUROC and TNR calculation functions\n",
        "def getAUROC(in_scores, out_scores):\n",
        "    all_scores = np.concatenate((in_scores, out_scores))\n",
        "    labels = np.concatenate((np.ones(len(in_scores)), np.zeros(len(out_scores))))\n",
        "    from sklearn.metrics import roc_auc_score\n",
        "    return roc_auc_score(labels, all_scores) * 100\n",
        "\n",
        "def getTNR(in_scores, out_scores):\n",
        "    sorted_in_scores = np.sort(in_scores)[::-1]\n",
        "    tau = sorted_in_scores[int(0.95 * len(in_scores))]\n",
        "    return 100 * (len(out_scores[out_scores < tau]) / len(out_scores))\n",
        "\n",
        "# Assume last 10% of the dataset as OOD data\n",
        "au_roc = getAUROC(training_scores, testing_scores)\n",
        "tnr = getTNR(training_scores, testing_scores)\n",
        "\n",
        "print(f\"AUROC: {au_roc:.2f}\")\n",
        "print(f\"TNR: {tnr:.2f}\")\n"
      ],
      "metadata": {
        "colab": {
          "base_uri": "https://localhost:8080/"
        },
        "id": "43Z4-OmAyaKb",
        "outputId": "a9ad4bea-b84b-4b39-ba1e-19afa8e97267"
      },
      "execution_count": null,
      "outputs": [
        {
          "output_type": "stream",
          "name": "stdout",
          "text": [
            "AUROC: 49.99\n",
            "TNR: 0.00\n"
          ]
        }
      ]
    }
  ]
}